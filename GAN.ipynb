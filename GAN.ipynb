{
 "cells": [
  {
   "cell_type": "code",
   "execution_count": 24,
   "id": "b8916c84-8de2-47ac-aa52-bedf9dc67fa6",
   "metadata": {},
   "outputs": [],
   "source": [
    "import tensorflow as tf"
   ]
  },
  {
   "cell_type": "code",
   "execution_count": 25,
   "id": "ef629157-e201-4de4-812d-acd79c19af6a",
   "metadata": {},
   "outputs": [
    {
     "name": "stdout",
     "output_type": "stream",
     "text": [
      "Requirement already satisfied: imageio in c:\\users\\t50660\\appdata\\local\\programs\\python\\python39\\lib\\site-packages (2.37.0)Note: you may need to restart the kernel to use updated packages.\n",
      "\n",
      "Requirement already satisfied: numpy in c:\\users\\t50660\\appdata\\local\\programs\\python\\python39\\lib\\site-packages (from imageio) (1.26.4)\n",
      "Requirement already satisfied: pillow>=8.3.2 in c:\\users\\t50660\\appdata\\local\\programs\\python\\python39\\lib\\site-packages (from imageio) (11.3.0)\n",
      "Collecting git+https://github.com/tensorflow/docs\n",
      "  Cloning https://github.com/tensorflow/docs to c:\\users\\t50660\\appdata\\local\\temp\\pip-req-build-7iqbe0qp\n",
      "  Resolved https://github.com/tensorflow/docs to commit e21d085d5ed82504ffcec11aa82ebc78f1f2302e\n",
      "  Preparing metadata (setup.py): started\n",
      "  Preparing metadata (setup.py): finished with status 'done'\n",
      "Requirement already satisfied: astor in c:\\users\\t50660\\appdata\\local\\programs\\python\\python39\\lib\\site-packages (from tensorflow-docs==2025.3.6.10029) (0.8.1)\n",
      "Requirement already satisfied: absl-py in c:\\users\\t50660\\appdata\\local\\programs\\python\\python39\\lib\\site-packages (from tensorflow-docs==2025.3.6.10029) (2.3.1)\n",
      "Requirement already satisfied: jinja2 in c:\\users\\t50660\\appdata\\local\\programs\\python\\python39\\lib\\site-packages (from tensorflow-docs==2025.3.6.10029) (3.1.6)\n",
      "Requirement already satisfied: nbformat in c:\\users\\t50660\\appdata\\local\\programs\\python\\python39\\lib\\site-packages (from tensorflow-docs==2025.3.6.10029) (5.10.4)\n",
      "Requirement already satisfied: protobuf>=3.12 in c:\\users\\t50660\\appdata\\local\\programs\\python\\python39\\lib\\site-packages (from tensorflow-docs==2025.3.6.10029) (5.29.5)\n",
      "Requirement already satisfied: pyyaml in c:\\users\\t50660\\appdata\\local\\programs\\python\\python39\\lib\\site-packages (from tensorflow-docs==2025.3.6.10029) (6.0.2)\n",
      "Requirement already satisfied: MarkupSafe>=2.0 in c:\\users\\t50660\\appdata\\local\\programs\\python\\python39\\lib\\site-packages (from jinja2->tensorflow-docs==2025.3.6.10029) (3.0.2)\n",
      "Requirement already satisfied: fastjsonschema>=2.15 in c:\\users\\t50660\\appdata\\local\\programs\\python\\python39\\lib\\site-packages (from nbformat->tensorflow-docs==2025.3.6.10029) (2.21.1)\n",
      "Requirement already satisfied: jsonschema>=2.6 in c:\\users\\t50660\\appdata\\local\\programs\\python\\python39\\lib\\site-packages (from nbformat->tensorflow-docs==2025.3.6.10029) (4.24.0)\n",
      "Requirement already satisfied: jupyter-core!=5.0.*,>=4.12 in c:\\users\\t50660\\appdata\\local\\programs\\python\\python39\\lib\\site-packages (from nbformat->tensorflow-docs==2025.3.6.10029) (5.8.1)\n",
      "Requirement already satisfied: traitlets>=5.1 in c:\\users\\t50660\\appdata\\local\\programs\\python\\python39\\lib\\site-packages (from nbformat->tensorflow-docs==2025.3.6.10029) (5.14.3)\n",
      "Requirement already satisfied: attrs>=22.2.0 in c:\\users\\t50660\\appdata\\local\\programs\\python\\python39\\lib\\site-packages (from jsonschema>=2.6->nbformat->tensorflow-docs==2025.3.6.10029) (25.3.0)\n",
      "Requirement already satisfied: jsonschema-specifications>=2023.03.6 in c:\\users\\t50660\\appdata\\local\\programs\\python\\python39\\lib\\site-packages (from jsonschema>=2.6->nbformat->tensorflow-docs==2025.3.6.10029) (2025.4.1)\n",
      "Requirement already satisfied: referencing>=0.28.4 in c:\\users\\t50660\\appdata\\local\\programs\\python\\python39\\lib\\site-packages (from jsonschema>=2.6->nbformat->tensorflow-docs==2025.3.6.10029) (0.36.2)\n",
      "Requirement already satisfied: rpds-py>=0.7.1 in c:\\users\\t50660\\appdata\\local\\programs\\python\\python39\\lib\\site-packages (from jsonschema>=2.6->nbformat->tensorflow-docs==2025.3.6.10029) (0.26.0)\n",
      "Requirement already satisfied: platformdirs>=2.5 in c:\\users\\t50660\\appdata\\local\\programs\\python\\python39\\lib\\site-packages (from jupyter-core!=5.0.*,>=4.12->nbformat->tensorflow-docs==2025.3.6.10029) (4.3.8)\n",
      "Requirement already satisfied: pywin32>=300 in c:\\users\\t50660\\appdata\\local\\programs\\python\\python39\\lib\\site-packages (from jupyter-core!=5.0.*,>=4.12->nbformat->tensorflow-docs==2025.3.6.10029) (311)\n",
      "Requirement already satisfied: typing-extensions>=4.4.0 in c:\\users\\t50660\\appdata\\local\\programs\\python\\python39\\lib\\site-packages (from referencing>=0.28.4->jsonschema>=2.6->nbformat->tensorflow-docs==2025.3.6.10029) (4.14.1)\n",
      "Note: you may need to restart the kernel to use updated packages.\n"
     ]
    },
    {
     "name": "stderr",
     "output_type": "stream",
     "text": [
      "  Running command git clone --filter=blob:none --quiet https://github.com/tensorflow/docs 'C:\\Users\\T50660\\AppData\\Local\\Temp\\pip-req-build-7iqbe0qp'\n"
     ]
    }
   ],
   "source": [
    "%pip install imageio  # bridge between files and numpy arrys\n",
    "%pip install git+https://github.com/tensorflow/docs\n"
   ]
  },
  {
   "cell_type": "code",
   "execution_count": 26,
   "id": "613137ff-38bd-4b58-9c34-56bcb372c8a3",
   "metadata": {},
   "outputs": [],
   "source": [
    "import glob\n",
    "import imageio\n",
    "import matplotlib.pyplot as plt\n",
    "import numpy as np\n",
    "import os\n",
    "import PIL\n",
    "from tensorflow.keras import layers\n",
    "import time\n",
    "\n",
    "from IPython import display"
   ]
  },
  {
   "cell_type": "code",
   "execution_count": 27,
   "id": "2f5e3fb2-8d08-49d5-bb73-e38b6723db45",
   "metadata": {},
   "outputs": [],
   "source": [
    "(train_images, train_labels), (_, _) = tf.keras.datasets.mnist.load_data() #using MNIST datasset"
   ]
  },
  {
   "cell_type": "code",
   "execution_count": 28,
   "id": "5a5a6c21-d838-469c-b994-e9ee374840dc",
   "metadata": {},
   "outputs": [],
   "source": [
    "train_images = train_images.reshape(train_images.shape[0], 28, 28, 1).astype('float32')# convert the img to 28,28,1\n",
    "train_images = (train_images - 127.5) / 127.5  # Normalize the images to [-1, 1]"
   ]
  },
  {
   "cell_type": "code",
   "execution_count": 29,
   "id": "26ac035f-9319-427d-8948-3c7db64a3249",
   "metadata": {},
   "outputs": [],
   "source": [
    "BUFFER_SIZE = 60000 #used in shuffling dataset\n",
    "BATCH_SIZE = 256 # how many samples are processed in one forward/backward pass"
   ]
  },
  {
   "cell_type": "code",
   "execution_count": 30,
   "id": "148f6d4e-58af-4188-8eb7-f188cf61f4da",
   "metadata": {},
   "outputs": [],
   "source": [
    "# Batch and shuffle the data \n",
    "train_dataset = tf.data.Dataset.from_tensor_slices(train_images).shuffle(BUFFER_SIZE).batch(BATCH_SIZE)"
   ]
  },
  {
   "cell_type": "code",
   "execution_count": 31,
   "id": "a0fbe1ca-495b-4a5b-9d58-72c30bf100e5",
   "metadata": {},
   "outputs": [],
   "source": [
    "# creating generator\n",
    "def make_generator_model():\n",
    "    model = tf.keras.Sequential()\n",
    "    model.add(layers.Dense(7*7*256, use_bias=False, input_shape=(100,)))\n",
    "    model.add(layers.BatchNormalization())\n",
    "    model.add(layers.LeakyReLU()) # this will perform better adviced in paper \n",
    "\n",
    "    model.add(layers.Reshape((7, 7, 256)))\n",
    "    assert model.output_shape == (None, 7, 7, 256)  # Note: None is the batch size\n",
    "\n",
    "    model.add(layers.Conv2DTranspose(128, (5, 5), strides=(1, 1), padding='same', use_bias=False))\n",
    "    assert model.output_shape == (None, 7, 7, 128)\n",
    "    model.add(layers.BatchNormalization())\n",
    "    model.add(layers.LeakyReLU())\n",
    "\n",
    "    model.add(layers.Conv2DTranspose(64, (5, 5), strides=(2, 2), padding='same', use_bias=False))\n",
    "    assert model.output_shape == (None, 14, 14, 64)\n",
    "    model.add(layers.BatchNormalization())\n",
    "    model.add(layers.LeakyReLU())\n",
    "\n",
    "    model.add(layers.Conv2DTranspose(1, (5, 5), strides=(2, 2), padding='same', use_bias=False, activation='tanh'))\n",
    "    assert model.output_shape == (None, 28, 28, 1) #original img size \n",
    "\n",
    "    return model"
   ]
  },
  {
   "cell_type": "code",
   "execution_count": 32,
   "id": "87ba1303-17f6-472c-b387-5dd69b3ddfe6",
   "metadata": {},
   "outputs": [
    {
     "data": {
      "text/plain": [
       "<matplotlib.image.AxesImage at 0x1daf15fea60>"
      ]
     },
     "execution_count": 32,
     "metadata": {},
     "output_type": "execute_result"
    },
    {
     "data": {
      "image/png": "[encoded data removed]",
      "text/plain": [
       "<Figure size 640x480 with 1 Axes>"
      ]
     },
     "metadata": {},
     "output_type": "display_data"
    }
   ],
   "source": [
    "generator = make_generator_model() # creating instance of the generator model\n",
    "\n",
    "noise = tf.random.normal([1, 100]) # add noise vector (batchsize=1, latent space=100)\n",
    "generated_image = generator(noise, training=False) # pass noise through generator to create a fake image\n",
    "\n",
    "plt.imshow(generated_image[0, :, :, 0], cmap='gray') # Display"
   ]
  },
  {
   "cell_type": "code",
   "execution_count": 33,
   "id": "3d42fadb-1000-4daf-bd75-60fb86a99170",
   "metadata": {},
   "outputs": [],
   "source": [
    "#building discriminator\n",
    "def make_discriminator_model():\n",
    "    model = tf.keras.Sequential()\n",
    "    model.add(layers.Conv2D(64, (5, 5), strides=(2, 2), padding='same',\n",
    "                                     input_shape=[28, 28, 1]))\n",
    "    model.add(layers.LeakyReLU())\n",
    "    model.add(layers.Dropout(0.3))#avoid overfitting  \n",
    "\n",
    "    model.add(layers.Conv2D(128, (5, 5), strides=(2, 2), padding='same'))\n",
    "    model.add(layers.LeakyReLU())\n",
    "    model.add(layers.Dropout(0.3))\n",
    "\n",
    "    model.add(layers.Flatten())\n",
    "    model.add(layers.Dense(1))\n",
    "\n",
    "    return model"
   ]
  },
  {
   "cell_type": "code",
   "execution_count": 34,
   "id": "aca77b19-d22b-4cbc-9880-bd0c82d0866d",
   "metadata": {},
   "outputs": [
    {
     "name": "stdout",
     "output_type": "stream",
     "text": [
      "tf.Tensor([[-0.00087933]], shape=(1, 1), dtype=float32)\n"
     ]
    }
   ],
   "source": [
    "discriminator = make_discriminator_model() # Create an instance of discriminator \n",
    "decision = discriminator(generated_image) # test generated image\n",
    "print (decision)"
   ]
  },
  {
   "cell_type": "code",
   "execution_count": 35,
   "id": "9408497b-99b1-4058-815f-2beaff64e276",
   "metadata": {},
   "outputs": [],
   "source": [
    "# This method returns a helper function to compute cross entropy loss\n",
    "cross_entropy = tf.keras.losses.BinaryCrossentropy(from_logits=True) "
   ]
  },
  {
   "cell_type": "code",
   "execution_count": 36,
   "id": "1ed171d8-6103-48fb-a6bb-91a99d71627e",
   "metadata": {},
   "outputs": [],
   "source": [
    "def discriminator_loss(real_output, fake_output):\n",
    "    real_loss = cross_entropy(tf.ones_like(real_output), real_output) # loss for classifying real img as real(Lable = 1)\n",
    "    fake_loss = cross_entropy(tf.zeros_like(fake_output), fake_output) # Loss for classifying fack img as fake(lable = 0)\n",
    "    total_loss = real_loss + fake_loss \n",
    "    return total_loss"
   ]
  },
  {
   "cell_type": "code",
   "execution_count": 37,
   "id": "1737553c-db12-4856-9831-3de8ec632f7c",
   "metadata": {},
   "outputs": [],
   "source": [
    "def generator_loss(fake_output):\n",
    "    return cross_entropy(tf.ones_like(fake_output), fake_output) # generator wants discriminator to classify fake img as real"
   ]
  },
  {
   "cell_type": "code",
   "execution_count": 38,
   "id": "b93f2213-0ec7-482c-9e3f-ac93360ae27b",
   "metadata": {},
   "outputs": [],
   "source": [
    "generator_optimizer = tf.keras.optimizers.Adam(1e-4) # Optimizer for updating generator's weights\n",
    "discriminator_optimizer = tf.keras.optimizers.Adam(1e-4) # Optimizer for updating discriminator's weights"
   ]
  },
  {
   "cell_type": "code",
   "execution_count": 39,
   "id": "2f797381-12ec-4bfb-88cb-02560da63265",
   "metadata": {},
   "outputs": [],
   "source": [
    "#checkpoints you dont lose progress while training your GAN \n",
    "checkpoint_dir = './training_checkpoints' # Directory\n",
    "checkpoint_prefix = os.path.join(checkpoint_dir, \"ckpt\") # prefix for checkpoint\n",
    "# create a checkpoint object to save/restore model and optimizers\n",
    "checkpoint = tf.train.Checkpoint(generator_optimizer=generator_optimizer,\n",
    "                                 discriminator_optimizer=discriminator_optimizer,\n",
    "                                 generator=generator,\n",
    "                                 discriminator=discriminator)"
   ]
  },
  {
   "cell_type": "code",
   "execution_count": 41,
   "id": "7e159891-519f-4773-aff7-4a77e56219d4",
   "metadata": {},
   "outputs": [],
   "source": [
    "EPOCHS = 10\n",
    "noise_dim = 100\n",
    "num_examples_to_generate = 16 # no on img to generate for monitoring progress\n",
    "\n",
    "# You will reuse this seed overtime (so it's easier)\n",
    "# to visualize progress in the animated GIF)\n",
    "seed = tf.random.normal([num_examples_to_generate, noise_dim])"
   ]
  },
  {
   "cell_type": "code",
   "execution_count": 42,
   "id": "8612a557-9803-420e-8bc6-6a5cde16a36c",
   "metadata": {},
   "outputs": [],
   "source": [
    "# Notice the use of `tf.function`\n",
    "# This annotation causes the function to be \"compiled\".\n",
    "@tf.function # complie the fuction for faster execution eith tensorflow graph optimization\n",
    "def train_step(images):\n",
    "    noise = tf.random.normal([BATCH_SIZE, noise_dim]) # generate random noise input for the generator \n",
    "    \n",
    "    #Record operations for automatic differentiation\n",
    "    with tf.GradientTape() as gen_tape, tf.GradientTape() as disc_tape:\n",
    "      generated_images = generator(noise, training=True) # Generator creates fake images from noise\n",
    "\n",
    "      real_output = discriminator(images, training=True)\n",
    "      fake_output = discriminator(generated_images, training=True)\n",
    "\n",
    "      gen_loss = generator_loss(fake_output)  # Calculate generator loss\n",
    "      disc_loss = discriminator_loss(real_output, fake_output) # Calculate discriminator loss\n",
    "    # Compute gradients for generator and discriminator\n",
    "    gradients_of_generator = gen_tape.gradient(gen_loss, generator.trainable_variables)\n",
    "    gradients_of_discriminator = disc_tape.gradient(disc_loss, discriminator.trainable_variables)\n",
    "    \n",
    "    # Apply gradients to update generator weights\n",
    "    generator_optimizer.apply_gradients(zip(gradients_of_generator, generator.trainable_variables))\n",
    "    # Apply gradients to update discriminator weights\n",
    "    discriminator_optimizer.apply_gradients(zip(gradients_of_discriminator, discriminator.trainable_variables))"
   ]
  },
  {
   "cell_type": "code",
   "execution_count": 43,
   "id": "e9232805-444c-43a9-8295-175724083a42",
   "metadata": {},
   "outputs": [],
   "source": [
    "def train(dataset, epochs):\n",
    "  for epoch in range(epochs):\n",
    "    start = time.time()\n",
    "\n",
    "    # iterate over teh dataset and train in batches\n",
    "    for image_batch in dataset:\n",
    "      train_step(image_batch)\n",
    "\n",
    "    # Produce images for the GIF as you go\n",
    "    display.clear_output(wait=True)  # clear previous output for cleaner visualization\n",
    "    generate_and_save_images(generator,\n",
    "                             epoch + 1,\n",
    "                             seed)\n",
    "\n",
    "    # Save the model every 15 epochs\n",
    "    if (epoch + 1) % 15 == 0:\n",
    "      checkpoint.save(file_prefix = checkpoint_prefix)\n",
    "\n",
    "    print ('Time for epoch {} is {} sec'.format(epoch + 1, time.time()-start))\n",
    "\n",
    "  # Generate after the final epoch\n",
    "  display.clear_output(wait=True)\n",
    "  generate_and_save_images(generator,\n",
    "                           epochs,\n",
    "                           seed)"
   ]
  },
  {
   "cell_type": "code",
   "execution_count": 44,
   "id": "fccf1bd3-cdb9-4108-8443-e6bd853c61c4",
   "metadata": {},
   "outputs": [],
   "source": [
    "def generate_and_save_images(model, epoch, test_input):\n",
    "  # Notice `training` is set to False.\n",
    "  # This is so all layers run in inference mode (batchnorm).\n",
    "  predictions = model(test_input, training=False)\n",
    "  # Create a 4x4 grid for displaying 16 generated images\n",
    "  fig = plt.figure(figsize=(4, 4))\n",
    "\n",
    "  for i in range(predictions.shape[0]):\n",
    "      plt.subplot(4, 4, i+1)\n",
    "      plt.imshow(predictions[i, :, :, 0] * 127.5 + 127.5, cmap='gray')  # Scale pixel values back from [-1, 1] to [0, 255] and display in grayscale\n",
    "      plt.axis('off')\n",
    "  # Save the generated image grid for this epoch\n",
    "  plt.savefig('image_at_epoch_{:04d}.png'.format(epoch))\n",
    "  plt.show()"
   ]
  },
  {
   "cell_type": "code",
   "execution_count": 45,
   "id": "3d2ed565-3446-43c7-b85b-9c028b50423a",
   "metadata": {},
   "outputs": [
    {
     "data": {
      "image/png": "[encoded data removed]",
      "text/plain": [
       "<Figure size 400x400 with 16 Axes>"
      ]
     },
     "metadata": {},
     "output_type": "display_data"
    }
   ],
   "source": [
    "train(train_dataset, EPOCHS)"
   ]
  }
 ],
 "metadata": {
  "kernelspec": {
   "display_name": "Python 3 (ipykernel)",
   "language": "python",
   "name": "python3"
  },
  "language_info": {
   "codemirror_mode": {
    "name": "ipython",
    "version": 3
   },
   "file_extension": ".py",
   "mimetype": "text/x-python",
   "name": "python",
   "nbconvert_exporter": "python",
   "pygments_lexer": "ipython3",
   "version": "3.9.4"
  }
 },
 "nbformat": 4,
 "nbformat_minor": 5
}
